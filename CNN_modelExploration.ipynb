{
 "cells": [
  {
   "cell_type": "code",
   "execution_count": 1,
   "id": "22b7ded1-9842-427a-bbd4-4fccdebf767f",
   "metadata": {},
   "outputs": [],
   "source": [
    "import pandas as pd\n",
    "import numpy as np\n",
    "from sklearn.neighbors import NearestNeighbors\n",
    "import joblib\n",
    "import tensorflow as tf \n",
    "from tensorflow.compat.v1 import ConfigProto, Session\n",
    "from tensorflow.keras.layers import Dense, Input\n",
    "from tensorflow.keras.models import Model, Sequential\n",
    "from tensorflow.keras.callbacks import EarlyStopping\n",
    "import matplotlib.pyplot as plt"
   ]
  },
  {
   "cell_type": "code",
   "execution_count": 2,
   "id": "b4e27e1b-397b-4fce-85e6-08ace45616d3",
   "metadata": {},
   "outputs": [],
   "source": [
    "file_path = \"./Kaggle_Data/songs.csv\"\n",
    "\n",
    "songs_df = pd.read_csv(file_path)"
   ]
  },
  {
   "cell_type": "code",
   "execution_count": 3,
   "id": "571b7df3-5731-4d26-93b0-5423a2b6d6a8",
   "metadata": {},
   "outputs": [],
   "source": [
    "songs_df = songs_df[(songs_df['popularity'] > 20)]\n",
    "songs_df = songs_df[(songs_df['year'] > 1959)]\n",
    "\n",
    "\n",
    "\n",
    "songs_df.index = songs_df['id']\n",
    "song_names = songs_df['name']\n",
    "artists = songs_df['artists']\n",
    "song_year = songs_df['year'] \n",
    "X = songs_df.drop(columns=['id', 'name', 'release_date',\n",
    "                                  'artists', 'popularity', 'duration_ms',\n",
    "                                  'explicit', 'year'])\n",
    "y = songs_df['popularity']"
   ]
  },
  {
   "cell_type": "code",
   "execution_count": 4,
   "id": "a390a4e9-37f5-4fab-a54c-4981a063f6f9",
   "metadata": {},
   "outputs": [
    {
     "data": {
      "text/html": [
       "<div>\n",
       "<style scoped>\n",
       "    .dataframe tbody tr th:only-of-type {\n",
       "        vertical-align: middle;\n",
       "    }\n",
       "\n",
       "    .dataframe tbody tr th {\n",
       "        vertical-align: top;\n",
       "    }\n",
       "\n",
       "    .dataframe thead th {\n",
       "        text-align: right;\n",
       "    }\n",
       "</style>\n",
       "<table border=\"1\" class=\"dataframe\">\n",
       "  <thead>\n",
       "    <tr style=\"text-align: right;\">\n",
       "      <th></th>\n",
       "      <th>acousticness</th>\n",
       "      <th>artists</th>\n",
       "      <th>danceability</th>\n",
       "      <th>duration_ms</th>\n",
       "      <th>energy</th>\n",
       "      <th>explicit</th>\n",
       "      <th>id</th>\n",
       "      <th>instrumentalness</th>\n",
       "      <th>key</th>\n",
       "      <th>liveness</th>\n",
       "      <th>loudness</th>\n",
       "      <th>mode</th>\n",
       "      <th>name</th>\n",
       "      <th>popularity</th>\n",
       "      <th>release_date</th>\n",
       "      <th>speechiness</th>\n",
       "      <th>tempo</th>\n",
       "      <th>valence</th>\n",
       "      <th>year</th>\n",
       "    </tr>\n",
       "    <tr>\n",
       "      <th>id</th>\n",
       "      <th></th>\n",
       "      <th></th>\n",
       "      <th></th>\n",
       "      <th></th>\n",
       "      <th></th>\n",
       "      <th></th>\n",
       "      <th></th>\n",
       "      <th></th>\n",
       "      <th></th>\n",
       "      <th></th>\n",
       "      <th></th>\n",
       "      <th></th>\n",
       "      <th></th>\n",
       "      <th></th>\n",
       "      <th></th>\n",
       "      <th></th>\n",
       "      <th></th>\n",
       "      <th></th>\n",
       "      <th></th>\n",
       "    </tr>\n",
       "  </thead>\n",
       "  <tbody>\n",
       "    <tr>\n",
       "      <th>14KYHUXP10UdTx4RawPF65</th>\n",
       "      <td>0.5890</td>\n",
       "      <td>['Enrique Guzman']</td>\n",
       "      <td>0.617</td>\n",
       "      <td>121160</td>\n",
       "      <td>0.815</td>\n",
       "      <td>0</td>\n",
       "      <td>14KYHUXP10UdTx4RawPF65</td>\n",
       "      <td>0.000366</td>\n",
       "      <td>4</td>\n",
       "      <td>0.1230</td>\n",
       "      <td>-8.724</td>\n",
       "      <td>1</td>\n",
       "      <td>Oye Niña (Let's Dance)</td>\n",
       "      <td>25</td>\n",
       "      <td>1960</td>\n",
       "      <td>0.0410</td>\n",
       "      <td>85.041</td>\n",
       "      <td>0.964</td>\n",
       "      <td>1960</td>\n",
       "    </tr>\n",
       "    <tr>\n",
       "      <th>67LQpgGMjI0jnXo9lRj07C</th>\n",
       "      <td>0.8920</td>\n",
       "      <td>['Nelson Gonçalves']</td>\n",
       "      <td>0.596</td>\n",
       "      <td>185667</td>\n",
       "      <td>0.314</td>\n",
       "      <td>0</td>\n",
       "      <td>67LQpgGMjI0jnXo9lRj07C</td>\n",
       "      <td>0.000001</td>\n",
       "      <td>9</td>\n",
       "      <td>0.1680</td>\n",
       "      <td>-10.024</td>\n",
       "      <td>0</td>\n",
       "      <td>A Volta do Boêmio</td>\n",
       "      <td>42</td>\n",
       "      <td>1960</td>\n",
       "      <td>0.0290</td>\n",
       "      <td>99.442</td>\n",
       "      <td>0.599</td>\n",
       "      <td>1960</td>\n",
       "    </tr>\n",
       "    <tr>\n",
       "      <th>6punhea3aLO1amgBFe5Onz</th>\n",
       "      <td>0.6100</td>\n",
       "      <td>['Enrique Guzman']</td>\n",
       "      <td>0.312</td>\n",
       "      <td>172667</td>\n",
       "      <td>0.372</td>\n",
       "      <td>0</td>\n",
       "      <td>6punhea3aLO1amgBFe5Onz</td>\n",
       "      <td>0.000000</td>\n",
       "      <td>5</td>\n",
       "      <td>0.3800</td>\n",
       "      <td>-9.472</td>\n",
       "      <td>1</td>\n",
       "      <td>Gracias por el Recuerdo (Thanks for the Memory)</td>\n",
       "      <td>28</td>\n",
       "      <td>1960</td>\n",
       "      <td>0.0273</td>\n",
       "      <td>82.965</td>\n",
       "      <td>0.332</td>\n",
       "      <td>1960</td>\n",
       "    </tr>\n",
       "    <tr>\n",
       "      <th>7yjnEE3OeagYs8QI8cQYcH</th>\n",
       "      <td>0.8520</td>\n",
       "      <td>['Los Blue Caps']</td>\n",
       "      <td>0.228</td>\n",
       "      <td>139933</td>\n",
       "      <td>0.670</td>\n",
       "      <td>0</td>\n",
       "      <td>7yjnEE3OeagYs8QI8cQYcH</td>\n",
       "      <td>0.026900</td>\n",
       "      <td>6</td>\n",
       "      <td>0.1770</td>\n",
       "      <td>-9.893</td>\n",
       "      <td>0</td>\n",
       "      <td>¿Por Qué Te Amo? - Why Do I Love You So</td>\n",
       "      <td>23</td>\n",
       "      <td>1960</td>\n",
       "      <td>0.0459</td>\n",
       "      <td>67.792</td>\n",
       "      <td>0.520</td>\n",
       "      <td>1960</td>\n",
       "    </tr>\n",
       "    <tr>\n",
       "      <th>1kQa6xtxhxrpLrCBgV5v7r</th>\n",
       "      <td>0.5580</td>\n",
       "      <td>['Los Teen Tops']</td>\n",
       "      <td>0.476</td>\n",
       "      <td>121027</td>\n",
       "      <td>0.923</td>\n",
       "      <td>0</td>\n",
       "      <td>1kQa6xtxhxrpLrCBgV5v7r</td>\n",
       "      <td>0.000000</td>\n",
       "      <td>9</td>\n",
       "      <td>0.1570</td>\n",
       "      <td>-6.077</td>\n",
       "      <td>1</td>\n",
       "      <td>Rey Criollo - King Creole (Remasterizado)</td>\n",
       "      <td>25</td>\n",
       "      <td>1960</td>\n",
       "      <td>0.0850</td>\n",
       "      <td>90.129</td>\n",
       "      <td>0.808</td>\n",
       "      <td>1960</td>\n",
       "    </tr>\n",
       "    <tr>\n",
       "      <th>...</th>\n",
       "      <td>...</td>\n",
       "      <td>...</td>\n",
       "      <td>...</td>\n",
       "      <td>...</td>\n",
       "      <td>...</td>\n",
       "      <td>...</td>\n",
       "      <td>...</td>\n",
       "      <td>...</td>\n",
       "      <td>...</td>\n",
       "      <td>...</td>\n",
       "      <td>...</td>\n",
       "      <td>...</td>\n",
       "      <td>...</td>\n",
       "      <td>...</td>\n",
       "      <td>...</td>\n",
       "      <td>...</td>\n",
       "      <td>...</td>\n",
       "      <td>...</td>\n",
       "      <td>...</td>\n",
       "    </tr>\n",
       "    <tr>\n",
       "      <th>4KppkflX7I3vJQk7urOJaS</th>\n",
       "      <td>0.1730</td>\n",
       "      <td>['DripReport', 'Tyga']</td>\n",
       "      <td>0.875</td>\n",
       "      <td>163800</td>\n",
       "      <td>0.443</td>\n",
       "      <td>1</td>\n",
       "      <td>4KppkflX7I3vJQk7urOJaS</td>\n",
       "      <td>0.000032</td>\n",
       "      <td>1</td>\n",
       "      <td>0.0891</td>\n",
       "      <td>-7.461</td>\n",
       "      <td>1</td>\n",
       "      <td>Skechers (feat. Tyga) - Remix</td>\n",
       "      <td>75</td>\n",
       "      <td>2020-05-15</td>\n",
       "      <td>0.1430</td>\n",
       "      <td>100.012</td>\n",
       "      <td>0.306</td>\n",
       "      <td>2020</td>\n",
       "    </tr>\n",
       "    <tr>\n",
       "      <th>1ehhGlTvjtHo2e4xJFB0SZ</th>\n",
       "      <td>0.0167</td>\n",
       "      <td>['Leon Bridges', 'Terrace Martin']</td>\n",
       "      <td>0.719</td>\n",
       "      <td>167468</td>\n",
       "      <td>0.385</td>\n",
       "      <td>0</td>\n",
       "      <td>1ehhGlTvjtHo2e4xJFB0SZ</td>\n",
       "      <td>0.031300</td>\n",
       "      <td>8</td>\n",
       "      <td>0.1110</td>\n",
       "      <td>-10.907</td>\n",
       "      <td>1</td>\n",
       "      <td>Sweeter (feat. Terrace Martin)</td>\n",
       "      <td>64</td>\n",
       "      <td>2020-06-08</td>\n",
       "      <td>0.0403</td>\n",
       "      <td>128.000</td>\n",
       "      <td>0.270</td>\n",
       "      <td>2020</td>\n",
       "    </tr>\n",
       "    <tr>\n",
       "      <th>52eycxprLhK3lPcRLbQiVk</th>\n",
       "      <td>0.5380</td>\n",
       "      <td>['Kygo', 'Oh Wonder']</td>\n",
       "      <td>0.514</td>\n",
       "      <td>180700</td>\n",
       "      <td>0.539</td>\n",
       "      <td>0</td>\n",
       "      <td>52eycxprLhK3lPcRLbQiVk</td>\n",
       "      <td>0.002330</td>\n",
       "      <td>7</td>\n",
       "      <td>0.1080</td>\n",
       "      <td>-9.332</td>\n",
       "      <td>1</td>\n",
       "      <td>How Would I Know</td>\n",
       "      <td>70</td>\n",
       "      <td>2020-05-29</td>\n",
       "      <td>0.1050</td>\n",
       "      <td>123.700</td>\n",
       "      <td>0.153</td>\n",
       "      <td>2020</td>\n",
       "    </tr>\n",
       "    <tr>\n",
       "      <th>3wYOGJYD31sLRmBgCvWxa4</th>\n",
       "      <td>0.0714</td>\n",
       "      <td>['Cash Cash', 'Andy Grammer']</td>\n",
       "      <td>0.646</td>\n",
       "      <td>167308</td>\n",
       "      <td>0.761</td>\n",
       "      <td>0</td>\n",
       "      <td>3wYOGJYD31sLRmBgCvWxa4</td>\n",
       "      <td>0.000000</td>\n",
       "      <td>1</td>\n",
       "      <td>0.2220</td>\n",
       "      <td>-2.557</td>\n",
       "      <td>1</td>\n",
       "      <td>I Found You</td>\n",
       "      <td>70</td>\n",
       "      <td>2020-02-28</td>\n",
       "      <td>0.0385</td>\n",
       "      <td>129.916</td>\n",
       "      <td>0.472</td>\n",
       "      <td>2020</td>\n",
       "    </tr>\n",
       "    <tr>\n",
       "      <th>60RFlt48hm0l4Fu0JoccOl</th>\n",
       "      <td>0.1090</td>\n",
       "      <td>['Ingrid Andress']</td>\n",
       "      <td>0.512</td>\n",
       "      <td>214787</td>\n",
       "      <td>0.428</td>\n",
       "      <td>0</td>\n",
       "      <td>60RFlt48hm0l4Fu0JoccOl</td>\n",
       "      <td>0.000000</td>\n",
       "      <td>0</td>\n",
       "      <td>0.1050</td>\n",
       "      <td>-7.387</td>\n",
       "      <td>1</td>\n",
       "      <td>More Hearts Than Mine</td>\n",
       "      <td>65</td>\n",
       "      <td>2020-03-27</td>\n",
       "      <td>0.0271</td>\n",
       "      <td>80.588</td>\n",
       "      <td>0.366</td>\n",
       "      <td>2020</td>\n",
       "    </tr>\n",
       "  </tbody>\n",
       "</table>\n",
       "<p>113126 rows × 19 columns</p>\n",
       "</div>"
      ],
      "text/plain": [
       "                        acousticness                             artists  \\\n",
       "id                                                                         \n",
       "14KYHUXP10UdTx4RawPF65        0.5890                  ['Enrique Guzman']   \n",
       "67LQpgGMjI0jnXo9lRj07C        0.8920                ['Nelson Gonçalves']   \n",
       "6punhea3aLO1amgBFe5Onz        0.6100                  ['Enrique Guzman']   \n",
       "7yjnEE3OeagYs8QI8cQYcH        0.8520                   ['Los Blue Caps']   \n",
       "1kQa6xtxhxrpLrCBgV5v7r        0.5580                   ['Los Teen Tops']   \n",
       "...                              ...                                 ...   \n",
       "4KppkflX7I3vJQk7urOJaS        0.1730              ['DripReport', 'Tyga']   \n",
       "1ehhGlTvjtHo2e4xJFB0SZ        0.0167  ['Leon Bridges', 'Terrace Martin']   \n",
       "52eycxprLhK3lPcRLbQiVk        0.5380               ['Kygo', 'Oh Wonder']   \n",
       "3wYOGJYD31sLRmBgCvWxa4        0.0714       ['Cash Cash', 'Andy Grammer']   \n",
       "60RFlt48hm0l4Fu0JoccOl        0.1090                  ['Ingrid Andress']   \n",
       "\n",
       "                        danceability  duration_ms  energy  explicit  \\\n",
       "id                                                                    \n",
       "14KYHUXP10UdTx4RawPF65         0.617       121160   0.815         0   \n",
       "67LQpgGMjI0jnXo9lRj07C         0.596       185667   0.314         0   \n",
       "6punhea3aLO1amgBFe5Onz         0.312       172667   0.372         0   \n",
       "7yjnEE3OeagYs8QI8cQYcH         0.228       139933   0.670         0   \n",
       "1kQa6xtxhxrpLrCBgV5v7r         0.476       121027   0.923         0   \n",
       "...                              ...          ...     ...       ...   \n",
       "4KppkflX7I3vJQk7urOJaS         0.875       163800   0.443         1   \n",
       "1ehhGlTvjtHo2e4xJFB0SZ         0.719       167468   0.385         0   \n",
       "52eycxprLhK3lPcRLbQiVk         0.514       180700   0.539         0   \n",
       "3wYOGJYD31sLRmBgCvWxa4         0.646       167308   0.761         0   \n",
       "60RFlt48hm0l4Fu0JoccOl         0.512       214787   0.428         0   \n",
       "\n",
       "                                            id  instrumentalness  key  \\\n",
       "id                                                                      \n",
       "14KYHUXP10UdTx4RawPF65  14KYHUXP10UdTx4RawPF65          0.000366    4   \n",
       "67LQpgGMjI0jnXo9lRj07C  67LQpgGMjI0jnXo9lRj07C          0.000001    9   \n",
       "6punhea3aLO1amgBFe5Onz  6punhea3aLO1amgBFe5Onz          0.000000    5   \n",
       "7yjnEE3OeagYs8QI8cQYcH  7yjnEE3OeagYs8QI8cQYcH          0.026900    6   \n",
       "1kQa6xtxhxrpLrCBgV5v7r  1kQa6xtxhxrpLrCBgV5v7r          0.000000    9   \n",
       "...                                        ...               ...  ...   \n",
       "4KppkflX7I3vJQk7urOJaS  4KppkflX7I3vJQk7urOJaS          0.000032    1   \n",
       "1ehhGlTvjtHo2e4xJFB0SZ  1ehhGlTvjtHo2e4xJFB0SZ          0.031300    8   \n",
       "52eycxprLhK3lPcRLbQiVk  52eycxprLhK3lPcRLbQiVk          0.002330    7   \n",
       "3wYOGJYD31sLRmBgCvWxa4  3wYOGJYD31sLRmBgCvWxa4          0.000000    1   \n",
       "60RFlt48hm0l4Fu0JoccOl  60RFlt48hm0l4Fu0JoccOl          0.000000    0   \n",
       "\n",
       "                        liveness  loudness  mode  \\\n",
       "id                                                 \n",
       "14KYHUXP10UdTx4RawPF65    0.1230    -8.724     1   \n",
       "67LQpgGMjI0jnXo9lRj07C    0.1680   -10.024     0   \n",
       "6punhea3aLO1amgBFe5Onz    0.3800    -9.472     1   \n",
       "7yjnEE3OeagYs8QI8cQYcH    0.1770    -9.893     0   \n",
       "1kQa6xtxhxrpLrCBgV5v7r    0.1570    -6.077     1   \n",
       "...                          ...       ...   ...   \n",
       "4KppkflX7I3vJQk7urOJaS    0.0891    -7.461     1   \n",
       "1ehhGlTvjtHo2e4xJFB0SZ    0.1110   -10.907     1   \n",
       "52eycxprLhK3lPcRLbQiVk    0.1080    -9.332     1   \n",
       "3wYOGJYD31sLRmBgCvWxa4    0.2220    -2.557     1   \n",
       "60RFlt48hm0l4Fu0JoccOl    0.1050    -7.387     1   \n",
       "\n",
       "                                                                   name  \\\n",
       "id                                                                        \n",
       "14KYHUXP10UdTx4RawPF65                           Oye Niña (Let's Dance)   \n",
       "67LQpgGMjI0jnXo9lRj07C                                A Volta do Boêmio   \n",
       "6punhea3aLO1amgBFe5Onz  Gracias por el Recuerdo (Thanks for the Memory)   \n",
       "7yjnEE3OeagYs8QI8cQYcH          ¿Por Qué Te Amo? - Why Do I Love You So   \n",
       "1kQa6xtxhxrpLrCBgV5v7r        Rey Criollo - King Creole (Remasterizado)   \n",
       "...                                                                 ...   \n",
       "4KppkflX7I3vJQk7urOJaS                    Skechers (feat. Tyga) - Remix   \n",
       "1ehhGlTvjtHo2e4xJFB0SZ                   Sweeter (feat. Terrace Martin)   \n",
       "52eycxprLhK3lPcRLbQiVk                                 How Would I Know   \n",
       "3wYOGJYD31sLRmBgCvWxa4                                      I Found You   \n",
       "60RFlt48hm0l4Fu0JoccOl                            More Hearts Than Mine   \n",
       "\n",
       "                        popularity release_date  speechiness    tempo  \\\n",
       "id                                                                      \n",
       "14KYHUXP10UdTx4RawPF65          25         1960       0.0410   85.041   \n",
       "67LQpgGMjI0jnXo9lRj07C          42         1960       0.0290   99.442   \n",
       "6punhea3aLO1amgBFe5Onz          28         1960       0.0273   82.965   \n",
       "7yjnEE3OeagYs8QI8cQYcH          23         1960       0.0459   67.792   \n",
       "1kQa6xtxhxrpLrCBgV5v7r          25         1960       0.0850   90.129   \n",
       "...                            ...          ...          ...      ...   \n",
       "4KppkflX7I3vJQk7urOJaS          75   2020-05-15       0.1430  100.012   \n",
       "1ehhGlTvjtHo2e4xJFB0SZ          64   2020-06-08       0.0403  128.000   \n",
       "52eycxprLhK3lPcRLbQiVk          70   2020-05-29       0.1050  123.700   \n",
       "3wYOGJYD31sLRmBgCvWxa4          70   2020-02-28       0.0385  129.916   \n",
       "60RFlt48hm0l4Fu0JoccOl          65   2020-03-27       0.0271   80.588   \n",
       "\n",
       "                        valence  year  \n",
       "id                                     \n",
       "14KYHUXP10UdTx4RawPF65    0.964  1960  \n",
       "67LQpgGMjI0jnXo9lRj07C    0.599  1960  \n",
       "6punhea3aLO1amgBFe5Onz    0.332  1960  \n",
       "7yjnEE3OeagYs8QI8cQYcH    0.520  1960  \n",
       "1kQa6xtxhxrpLrCBgV5v7r    0.808  1960  \n",
       "...                         ...   ...  \n",
       "4KppkflX7I3vJQk7urOJaS    0.306  2020  \n",
       "1ehhGlTvjtHo2e4xJFB0SZ    0.270  2020  \n",
       "52eycxprLhK3lPcRLbQiVk    0.153  2020  \n",
       "3wYOGJYD31sLRmBgCvWxa4    0.472  2020  \n",
       "60RFlt48hm0l4Fu0JoccOl    0.366  2020  \n",
       "\n",
       "[113126 rows x 19 columns]"
      ]
     },
     "execution_count": 4,
     "metadata": {},
     "output_type": "execute_result"
    }
   ],
   "source": [
    "songs_df"
   ]
  },
  {
   "cell_type": "code",
   "execution_count": 5,
   "id": "48bc0d8d-efbe-4810-8d4e-2fecf0cb8fde",
   "metadata": {},
   "outputs": [
    {
     "data": {
      "text/plain": [
       "((113126, 11), (113126,))"
      ]
     },
     "execution_count": 5,
     "metadata": {},
     "output_type": "execute_result"
    }
   ],
   "source": [
    "X.shape, y.shape"
   ]
  },
  {
   "cell_type": "code",
   "execution_count": 6,
   "id": "7769b4ef-2668-4d4f-86c5-f1706db01403",
   "metadata": {},
   "outputs": [],
   "source": [
    "X = X.to_numpy()\n",
    "\n",
    "y = y.to_numpy()"
   ]
  },
  {
   "cell_type": "code",
   "execution_count": 7,
   "id": "a880b20f-7d71-412f-bead-3bf2a578e48e",
   "metadata": {},
   "outputs": [],
   "source": [
    "max_val = 0\n",
    "for x in X:\n",
    "    if x.max() > max_val:\n",
    "        max_val = x.max()\n",
    "\n",
    "X_norm = X.astype('float')/max_val"
   ]
  },
  {
   "cell_type": "code",
   "execution_count": 8,
   "id": "bb3e612e-91bb-498d-914e-5f0bcb892817",
   "metadata": {},
   "outputs": [],
   "source": [
    "X_train = X_norm[:100000]\n",
    "X_test = X_norm[100001:]\n",
    "\n",
    "y_train = y[:100000]\n",
    "y_test = y[100001:]"
   ]
  },
  {
   "cell_type": "code",
   "execution_count": 9,
   "id": "a8608255-f610-47ce-87f1-0d7250ccd4bf",
   "metadata": {},
   "outputs": [],
   "source": [
    "input_dim = 11\n",
    "\n",
    "model1 = Sequential([\n",
    "    Dense(32, activation='relu', input_dim=input_dim),\n",
    "    Dense(16, activation='relu'),\n",
    "    Dense(1)\n",
    "])\n",
    "\n",
    "model1.compile(optimizer=tf.keras.optimizers.Adam(learning_rate= 0.001), \n",
    "              loss='mean_squared_error',\n",
    "              metrics=[tf.keras.metrics.RootMeanSquaredError()])"
   ]
  },
  {
   "cell_type": "code",
   "execution_count": 10,
   "id": "fe51e447-931b-4871-b5a6-c4c758a2a297",
   "metadata": {},
   "outputs": [
    {
     "name": "stdout",
     "output_type": "stream",
     "text": [
      "Epoch 1/100\n",
      "1250/1250 [==============================] - 1s 866us/step - loss: 518.2124 - root_mean_squared_error: 22.7643 - val_loss: 140.4788 - val_root_mean_squared_error: 11.8524\n",
      "Epoch 2/100\n",
      "1250/1250 [==============================] - 1s 777us/step - loss: 196.5094 - root_mean_squared_error: 14.0182 - val_loss: 125.7206 - val_root_mean_squared_error: 11.2125\n",
      "Epoch 3/100\n",
      "1250/1250 [==============================] - 1s 783us/step - loss: 187.7529 - root_mean_squared_error: 13.7023 - val_loss: 120.9133 - val_root_mean_squared_error: 10.9961\n",
      "Epoch 4/100\n",
      "1250/1250 [==============================] - 1s 788us/step - loss: 184.2267 - root_mean_squared_error: 13.5730 - val_loss: 122.3272 - val_root_mean_squared_error: 11.0602\n",
      "Epoch 5/100\n",
      "1250/1250 [==============================] - 1s 779us/step - loss: 181.4703 - root_mean_squared_error: 13.4711 - val_loss: 115.6423 - val_root_mean_squared_error: 10.7537\n",
      "Epoch 6/100\n",
      "1250/1250 [==============================] - 1s 780us/step - loss: 178.2366 - root_mean_squared_error: 13.3505 - val_loss: 112.2639 - val_root_mean_squared_error: 10.5955\n",
      "Epoch 7/100\n",
      "1250/1250 [==============================] - 1s 765us/step - loss: 175.5809 - root_mean_squared_error: 13.2507 - val_loss: 112.3637 - val_root_mean_squared_error: 10.6002\n",
      "Epoch 8/100\n",
      "1250/1250 [==============================] - 1s 758us/step - loss: 173.4541 - root_mean_squared_error: 13.1702 - val_loss: 108.8454 - val_root_mean_squared_error: 10.4329\n",
      "Epoch 9/100\n",
      "1250/1250 [==============================] - 1s 774us/step - loss: 171.7860 - root_mean_squared_error: 13.1067 - val_loss: 108.7903 - val_root_mean_squared_error: 10.4303\n",
      "Epoch 10/100\n",
      "1250/1250 [==============================] - 1s 763us/step - loss: 170.6534 - root_mean_squared_error: 13.0634 - val_loss: 109.0999 - val_root_mean_squared_error: 10.4451\n",
      "Epoch 11/100\n",
      "1250/1250 [==============================] - 1s 773us/step - loss: 169.4380 - root_mean_squared_error: 13.0168 - val_loss: 112.8770 - val_root_mean_squared_error: 10.6244\n",
      "Epoch 12/100\n",
      "1250/1250 [==============================] - 1s 755us/step - loss: 168.4032 - root_mean_squared_error: 12.9770 - val_loss: 105.4252 - val_root_mean_squared_error: 10.2677\n",
      "Epoch 13/100\n",
      "1250/1250 [==============================] - 1s 752us/step - loss: 167.5187 - root_mean_squared_error: 12.9429 - val_loss: 108.7850 - val_root_mean_squared_error: 10.4300\n",
      "Epoch 14/100\n",
      "1250/1250 [==============================] - 1s 751us/step - loss: 166.5517 - root_mean_squared_error: 12.9055 - val_loss: 105.9709 - val_root_mean_squared_error: 10.2942\n",
      "Epoch 15/100\n",
      "1250/1250 [==============================] - 1s 771us/step - loss: 165.6421 - root_mean_squared_error: 12.8702 - val_loss: 107.0280 - val_root_mean_squared_error: 10.3454\n",
      "Epoch 16/100\n",
      "1250/1250 [==============================] - 1s 787us/step - loss: 164.7897 - root_mean_squared_error: 12.8370 - val_loss: 103.1606 - val_root_mean_squared_error: 10.1568\n",
      "Epoch 17/100\n",
      "1250/1250 [==============================] - 1s 810us/step - loss: 164.2047 - root_mean_squared_error: 12.8142 - val_loss: 106.3214 - val_root_mean_squared_error: 10.3112\n",
      "Epoch 18/100\n",
      "1250/1250 [==============================] - 1s 789us/step - loss: 163.4486 - root_mean_squared_error: 12.7847 - val_loss: 107.3375 - val_root_mean_squared_error: 10.3604\n",
      "Epoch 19/100\n",
      "1250/1250 [==============================] - 1s 767us/step - loss: 162.7998 - root_mean_squared_error: 12.7593 - val_loss: 106.0400 - val_root_mean_squared_error: 10.2976\n",
      "Epoch 20/100\n",
      "1250/1250 [==============================] - 1s 757us/step - loss: 162.3274 - root_mean_squared_error: 12.7408 - val_loss: 103.2550 - val_root_mean_squared_error: 10.1614\n",
      "Epoch 21/100\n",
      "1250/1250 [==============================] - 1s 785us/step - loss: 161.7441 - root_mean_squared_error: 12.7179 - val_loss: 104.6565 - val_root_mean_squared_error: 10.2302\n",
      "Epoch 22/100\n",
      "1250/1250 [==============================] - 1s 781us/step - loss: 161.2313 - root_mean_squared_error: 12.6977 - val_loss: 102.5294 - val_root_mean_squared_error: 10.1257\n",
      "Epoch 23/100\n",
      "1250/1250 [==============================] - 1s 784us/step - loss: 160.8794 - root_mean_squared_error: 12.6838 - val_loss: 103.3298 - val_root_mean_squared_error: 10.1651\n",
      "Epoch 24/100\n",
      "1250/1250 [==============================] - 1s 779us/step - loss: 160.4887 - root_mean_squared_error: 12.6684 - val_loss: 100.0042 - val_root_mean_squared_error: 10.0002\n",
      "Epoch 25/100\n",
      "1250/1250 [==============================] - 1s 764us/step - loss: 160.2243 - root_mean_squared_error: 12.6580 - val_loss: 101.6026 - val_root_mean_squared_error: 10.0798\n",
      "Epoch 26/100\n",
      "1250/1250 [==============================] - 1s 780us/step - loss: 159.9078 - root_mean_squared_error: 12.6455 - val_loss: 100.5884 - val_root_mean_squared_error: 10.0294\n",
      "Epoch 27/100\n",
      "1250/1250 [==============================] - 1s 758us/step - loss: 159.6691 - root_mean_squared_error: 12.6360 - val_loss: 99.8098 - val_root_mean_squared_error: 9.9905\n",
      "Epoch 28/100\n",
      "1250/1250 [==============================] - 1s 786us/step - loss: 159.4024 - root_mean_squared_error: 12.6255 - val_loss: 100.7079 - val_root_mean_squared_error: 10.0353\n",
      "Epoch 29/100\n",
      "1250/1250 [==============================] - 1s 773us/step - loss: 159.2688 - root_mean_squared_error: 12.6202 - val_loss: 99.2670 - val_root_mean_squared_error: 9.9633\n",
      "Epoch 30/100\n",
      "1250/1250 [==============================] - 1s 768us/step - loss: 158.9571 - root_mean_squared_error: 12.6078 - val_loss: 102.1053 - val_root_mean_squared_error: 10.1047\n",
      "Epoch 31/100\n",
      "1250/1250 [==============================] - 1s 731us/step - loss: 158.7117 - root_mean_squared_error: 12.5981 - val_loss: 99.6258 - val_root_mean_squared_error: 9.9813\n",
      "Epoch 32/100\n",
      "1250/1250 [==============================] - 1s 778us/step - loss: 158.6449 - root_mean_squared_error: 12.5954 - val_loss: 99.2119 - val_root_mean_squared_error: 9.9605\n",
      "Epoch 33/100\n",
      "1250/1250 [==============================] - 1s 753us/step - loss: 158.3484 - root_mean_squared_error: 12.5837 - val_loss: 99.3605 - val_root_mean_squared_error: 9.9680\n",
      "Epoch 34/100\n",
      "1250/1250 [==============================] - 1s 793us/step - loss: 158.3067 - root_mean_squared_error: 12.5820 - val_loss: 104.0541 - val_root_mean_squared_error: 10.2007\n",
      "Epoch 35/100\n",
      "1250/1250 [==============================] - 1s 798us/step - loss: 158.2269 - root_mean_squared_error: 12.5788 - val_loss: 97.7140 - val_root_mean_squared_error: 9.8850\n",
      "Epoch 36/100\n",
      "1250/1250 [==============================] - 1s 795us/step - loss: 158.0711 - root_mean_squared_error: 12.5726 - val_loss: 103.1386 - val_root_mean_squared_error: 10.1557\n",
      "Epoch 37/100\n",
      "1250/1250 [==============================] - 1s 737us/step - loss: 158.0539 - root_mean_squared_error: 12.5720 - val_loss: 104.6767 - val_root_mean_squared_error: 10.2312\n",
      "Epoch 38/100\n",
      "1250/1250 [==============================] - 1s 739us/step - loss: 157.8815 - root_mean_squared_error: 12.5651 - val_loss: 100.4264 - val_root_mean_squared_error: 10.0213\n",
      "Epoch 39/100\n",
      "1250/1250 [==============================] - 1s 730us/step - loss: 157.8953 - root_mean_squared_error: 12.5656 - val_loss: 101.1325 - val_root_mean_squared_error: 10.0565\n",
      "Epoch 40/100\n",
      "1250/1250 [==============================] - 1s 739us/step - loss: 157.7072 - root_mean_squared_error: 12.5582 - val_loss: 103.7959 - val_root_mean_squared_error: 10.1880\n",
      "Epoch 41/100\n",
      "1250/1250 [==============================] - 1s 718us/step - loss: 157.6673 - root_mean_squared_error: 12.5566 - val_loss: 102.0418 - val_root_mean_squared_error: 10.1016\n",
      "Epoch 42/100\n",
      "1250/1250 [==============================] - 1s 744us/step - loss: 157.4823 - root_mean_squared_error: 12.5492 - val_loss: 99.1145 - val_root_mean_squared_error: 9.9556\n",
      "Epoch 43/100\n",
      "1250/1250 [==============================] - 1s 746us/step - loss: 157.5139 - root_mean_squared_error: 12.5505 - val_loss: 97.3217 - val_root_mean_squared_error: 9.8652\n",
      "Epoch 44/100\n",
      "1250/1250 [==============================] - 1s 729us/step - loss: 157.6132 - root_mean_squared_error: 12.5544 - val_loss: 97.6516 - val_root_mean_squared_error: 9.8819\n",
      "Epoch 45/100\n",
      "1250/1250 [==============================] - 1s 736us/step - loss: 157.4355 - root_mean_squared_error: 12.5473 - val_loss: 101.1993 - val_root_mean_squared_error: 10.0598\n",
      "Epoch 46/100\n",
      "1250/1250 [==============================] - 1s 749us/step - loss: 157.2389 - root_mean_squared_error: 12.5395 - val_loss: 98.6100 - val_root_mean_squared_error: 9.9303\n",
      "Epoch 47/100\n",
      "1250/1250 [==============================] - 1s 739us/step - loss: 157.3560 - root_mean_squared_error: 12.5442 - val_loss: 99.2369 - val_root_mean_squared_error: 9.9618\n",
      "Epoch 48/100\n",
      "1250/1250 [==============================] - 1s 752us/step - loss: 157.2371 - root_mean_squared_error: 12.5394 - val_loss: 98.8727 - val_root_mean_squared_error: 9.9435\n",
      "Epoch 49/100\n",
      "1250/1250 [==============================] - 1s 736us/step - loss: 157.3012 - root_mean_squared_error: 12.5420 - val_loss: 96.5546 - val_root_mean_squared_error: 9.8262\n",
      "Epoch 50/100\n",
      "1250/1250 [==============================] - 1s 763us/step - loss: 157.2225 - root_mean_squared_error: 12.5388 - val_loss: 97.9519 - val_root_mean_squared_error: 9.8971\n",
      "Epoch 51/100\n",
      "1250/1250 [==============================] - 1s 738us/step - loss: 156.9925 - root_mean_squared_error: 12.5297 - val_loss: 97.8403 - val_root_mean_squared_error: 9.8914\n",
      "Epoch 52/100\n",
      "1250/1250 [==============================] - 1s 719us/step - loss: 157.1503 - root_mean_squared_error: 12.5360 - val_loss: 97.4549 - val_root_mean_squared_error: 9.8719\n",
      "Epoch 53/100\n",
      "1250/1250 [==============================] - 1s 767us/step - loss: 156.9916 - root_mean_squared_error: 12.5296 - val_loss: 97.9569 - val_root_mean_squared_error: 9.8973\n",
      "Epoch 54/100\n",
      "1250/1250 [==============================] - 1s 777us/step - loss: 157.0424 - root_mean_squared_error: 12.5317 - val_loss: 101.2325 - val_root_mean_squared_error: 10.0614\n",
      "Epoch 55/100\n",
      "1250/1250 [==============================] - 1s 783us/step - loss: 156.9263 - root_mean_squared_error: 12.5270 - val_loss: 100.9995 - val_root_mean_squared_error: 10.0499\n",
      "Epoch 56/100\n",
      "1250/1250 [==============================] - 1s 794us/step - loss: 156.9453 - root_mean_squared_error: 12.5278 - val_loss: 97.7872 - val_root_mean_squared_error: 9.8887\n",
      "Epoch 57/100\n",
      "1250/1250 [==============================] - 1s 786us/step - loss: 156.9640 - root_mean_squared_error: 12.5285 - val_loss: 98.7478 - val_root_mean_squared_error: 9.9372\n",
      "Epoch 58/100\n",
      "1250/1250 [==============================] - 1s 786us/step - loss: 156.8968 - root_mean_squared_error: 12.5258 - val_loss: 99.6083 - val_root_mean_squared_error: 9.9804\n",
      "Epoch 59/100\n",
      "1250/1250 [==============================] - 1s 760us/step - loss: 156.8917 - root_mean_squared_error: 12.5256 - val_loss: 97.8888 - val_root_mean_squared_error: 9.8939\n"
     ]
    },
    {
     "data": {
      "text/plain": [
       "<keras.callbacks.History at 0x16431b943d0>"
      ]
     },
     "execution_count": 10,
     "metadata": {},
     "output_type": "execute_result"
    }
   ],
   "source": [
    "config = ConfigProto(device_count={\"GPU\": 0})\n",
    "session = Session(config=config)\n",
    "\n",
    "stop = EarlyStopping(patience = 10)\n",
    "\n",
    "model1.fit(\n",
    "    X_train, y_train,\n",
    "    batch_size=64,\n",
    "    validation_split=0.2,\n",
    "    shuffle=True,\n",
    "    epochs=100,\n",
    "    workers=15,\n",
    "    callbacks=[stop]\n",
    ")"
   ]
  },
  {
   "cell_type": "code",
   "execution_count": 11,
   "id": "12748a0c-0f59-4c72-b386-b6e8b826f2d1",
   "metadata": {},
   "outputs": [],
   "source": [
    "pred = model1.predict(X)"
   ]
  },
  {
   "cell_type": "code",
   "execution_count": 12,
   "id": "bec2bf99-4c9e-4a02-a403-afe70eef9b74",
   "metadata": {},
   "outputs": [
    {
     "data": {
      "text/plain": [
       "(113126, 1)"
      ]
     },
     "execution_count": 12,
     "metadata": {},
     "output_type": "execute_result"
    }
   ],
   "source": [
    "pred.shape"
   ]
  },
  {
   "cell_type": "code",
   "execution_count": 13,
   "id": "7cde3510-b749-45a4-a507-5202169d4088",
   "metadata": {},
   "outputs": [],
   "source": [
    "song_year = song_year.to_numpy().reshape(-1, 1)"
   ]
  },
  {
   "cell_type": "code",
   "execution_count": 14,
   "id": "8cd1d429-e11b-4c7a-b4ea-5ab3ab239418",
   "metadata": {},
   "outputs": [
    {
     "data": {
      "text/plain": [
       "(113126, 1)"
      ]
     },
     "execution_count": 14,
     "metadata": {},
     "output_type": "execute_result"
    }
   ],
   "source": [
    "song_year.shape"
   ]
  },
  {
   "cell_type": "code",
   "execution_count": 15,
   "id": "1c8fac25-405c-43db-afb7-73316105de50",
   "metadata": {},
   "outputs": [],
   "source": [
    "knn_features = np.stack((pred, song_year), axis=1).reshape(-1, 2)"
   ]
  },
  {
   "cell_type": "code",
   "execution_count": 16,
   "id": "006536ba-5862-4547-93d8-03cc20cff280",
   "metadata": {},
   "outputs": [
    {
     "data": {
      "text/plain": [
       "array([[ 136.72824097, 1960.        ],\n",
       "       [ 920.6918335 , 1960.        ],\n",
       "       [ 475.4395752 , 1960.        ],\n",
       "       ...,\n",
       "       [1382.9979248 , 2020.        ],\n",
       "       [1157.46728516, 2020.        ],\n",
       "       [ 719.86669922, 2020.        ]])"
      ]
     },
     "execution_count": 16,
     "metadata": {},
     "output_type": "execute_result"
    }
   ],
   "source": [
    "knn_features"
   ]
  },
  {
   "cell_type": "code",
   "execution_count": 17,
   "id": "af3c516a-9d19-4944-9535-1757c22190bf",
   "metadata": {},
   "outputs": [],
   "source": [
    "nn = NearestNeighbors(n_neighbors=10)\n",
    "\n",
    "knn = nn.fit(knn_features)"
   ]
  },
  {
   "cell_type": "code",
   "execution_count": 18,
   "id": "84d33ddf-b943-4f5f-94f8-69c445674da7",
   "metadata": {},
   "outputs": [],
   "source": [
    "test = knn_features[0].reshape(1, -1)\n",
    "\n",
    "dist, index = knn.kneighbors(test) "
   ]
  },
  {
   "cell_type": "code",
   "execution_count": 19,
   "id": "2ee7393e-b12f-4df6-bf6b-948cb4424b82",
   "metadata": {},
   "outputs": [
    {
     "name": "stdout",
     "output_type": "stream",
     "text": [
      "id\n",
      "14KYHUXP10UdTx4RawPF65                               Oye Niña (Let's Dance)\n",
      "6IOnUNpll37ONAgshDwa5B          Let's Get Together - From \"The Parent Trap\"\n",
      "2xWYWJV1WLfrFe5uSr3Jcv                                         Little Devil\n",
      "78JtnRNK4t1IeywZx5F1rx                   Quién Puso el Bomp - Remasterizado\n",
      "7hBGIBruVeE1UTxv2heeP9                                Take Me For What I Am\n",
      "2MjjhZpqzlOoDCb0wbIFsU                              Twistin' The Night Away\n",
      "6psYpUSDyjlkSzFtgcGURp                              Lipstick On Your Collar\n",
      "6A3rHCtV9sP5aRvBDth3wB    Buen Rock Esta Noche - Good Rockin' Tonight [R...\n",
      "6U3Az2TWNkjzeqV5RztJw7          Presumida - High Class Baby [Remasterizado]\n",
      "3aXSKGqHUGXWPfBcpl1C8I                                     Samba do Carioca\n",
      "Name: name, dtype: object\n"
     ]
    }
   ],
   "source": [
    "for i in index:\n",
    "    print(song_names[i])\n",
    "\n"
   ]
  },
  {
   "cell_type": "code",
   "execution_count": 20,
   "id": "e33fdc3f-79bc-47bc-b02d-b26dedb721f0",
   "metadata": {},
   "outputs": [
    {
     "data": {
      "text/plain": [
       "array([[0.        , 2.18667983, 2.75007629, 3.1302948 , 3.92043572,\n",
       "        4.65057801, 5.26199354, 6.13529968, 6.23010254, 6.95787915]])"
      ]
     },
     "execution_count": 20,
     "metadata": {},
     "output_type": "execute_result"
    }
   ],
   "source": [
    "dist"
   ]
  },
  {
   "cell_type": "code",
   "execution_count": 21,
   "id": "3906f566-bb08-46ae-89b8-9ebd7a983e14",
   "metadata": {},
   "outputs": [
    {
     "data": {
      "text/plain": [
       "\"Oye Niña (Let's Dance)\""
      ]
     },
     "execution_count": 21,
     "metadata": {},
     "output_type": "execute_result"
    }
   ],
   "source": [
    "song_names[0]"
   ]
  },
  {
   "cell_type": "code",
   "execution_count": 22,
   "id": "0d8b4be2-f3c2-42ee-ab1d-c9eea3b5ae47",
   "metadata": {},
   "outputs": [],
   "source": [
    "test = np.array([0.0529, 0.664, 0.602, 0, 4, 0.356, -5.369, 0, 0.0412, 134.049, 0.289])"
   ]
  },
  {
   "cell_type": "code",
   "execution_count": 23,
   "id": "2df9f909-0ed2-4563-b166-cda2eeb68524",
   "metadata": {},
   "outputs": [],
   "source": [
    "test_norm = test.astype('float')/max_val"
   ]
  },
  {
   "cell_type": "code",
   "execution_count": 24,
   "id": "a029b431-13b3-4cb8-8baf-eecb2d31bfbd",
   "metadata": {},
   "outputs": [
    {
     "data": {
      "text/plain": [
       "array([ 2.41303448e-03,  2.52774580e-03,  3.33891868e-03,  1.49944078e-06,\n",
       "        1.63873310e-02,  5.03910427e-04, -3.57407688e-02,  4.09683274e-03,\n",
       "        1.67970142e-04,  3.48398753e-01,  3.94934676e-03])"
      ]
     },
     "execution_count": 24,
     "metadata": {},
     "output_type": "execute_result"
    }
   ],
   "source": [
    "X_train[0]"
   ]
  },
  {
   "cell_type": "code",
   "execution_count": 25,
   "id": "bdcf26c4-59ee-4167-b7a6-cdfb4256693c",
   "metadata": {},
   "outputs": [],
   "source": [
    "test2 = model1.predict(test_norm.reshape(1,-1))\n",
    "test2 = np.array([test2[0][0], 2016])"
   ]
  },
  {
   "cell_type": "code",
   "execution_count": 26,
   "id": "16545078-e83a-4608-847c-4008bf1e8dbe",
   "metadata": {},
   "outputs": [],
   "source": [
    "dist, index = knn.kneighbors(test2.reshape(1, -1)) "
   ]
  },
  {
   "cell_type": "code",
   "execution_count": 27,
   "id": "9459252b-a450-4e35-b123-c0313e4558c1",
   "metadata": {},
   "outputs": [
    {
     "name": "stdout",
     "output_type": "stream",
     "text": [
      "id\n",
      "5Ma3BlNVDtn3JiwMEafSaq                                               Single\n",
      "0s77V2jfwyd8Mz5YHFXPJi    Summer Jam (feat. Florida Georgia Line) (feat....\n",
      "1qOjhG2mkc7NtDYfrh30MW                                              América\n",
      "4rc2WNOt2w8BHfQjBC8PO0                                     We Own The Night\n",
      "4TQOC2AhsD96oPxAC6NB6w    Take Me There - From \"The Rugrats Movie\" Sound...\n",
      "0gEQuV07NblpCGECSGqczG                                   A Ti Te da Besitos\n",
      "0M5pEUmRD3b4nP31L88IdL                                            Why Worry\n",
      "2q4F6OpQgx9umNB9uGFPYo                                  RATCHET SATURN GIRL\n",
      "6DWntCW0Z8ZyNgDoPojfpW                              Whatcha Know 'Bout That\n",
      "6U9ugzM29qVCHj2z2AFXk3                      It's Thunder and It's Lightning\n",
      "Name: name, dtype: object\n"
     ]
    },
    {
     "data": {
      "text/plain": [
       "array([[1.95345416, 4.15767854, 5.03830497, 5.47221997, 5.59539144,\n",
       "        5.73059827, 6.49030334, 6.54998869, 6.73353101, 7.00897436]])"
      ]
     },
     "execution_count": 27,
     "metadata": {},
     "output_type": "execute_result"
    }
   ],
   "source": [
    "for i in index:\n",
    "    print(song_names[i])\n",
    "    \n",
    "dist"
   ]
  },
  {
   "cell_type": "code",
   "execution_count": 28,
   "id": "86717c27-1901-4f70-92c6-bd03a6cb0ac6",
   "metadata": {},
   "outputs": [],
   "source": [
    "dist, index = knn.kneighbors(knn_features[:1000], 2)"
   ]
  },
  {
   "cell_type": "code",
   "execution_count": 29,
   "id": "0f19faa1-4a85-4e2b-b0f7-6ae9e63c2e86",
   "metadata": {},
   "outputs": [],
   "source": [
    "dist = np.delete(dist, 0, axis=1)\n",
    "y = np.array(list(range(0, 1000))).reshape(1000, 1)"
   ]
  },
  {
   "cell_type": "code",
   "execution_count": 30,
   "id": "bd42928d-e845-4494-aeea-e626a8f3904c",
   "metadata": {},
   "outputs": [
    {
     "data": {
      "image/png": "[encoded data removed]",
      "text/plain": [
       "<Figure size 432x288 with 1 Axes>"
      ]
     },
     "metadata": {
      "needs_background": "light"
     },
     "output_type": "display_data"
    }
   ],
   "source": [
    "fig, ax = plt.subplots()\n",
    "\n",
    "ax.scatter(dist, y, s=5)\n",
    "plt.xlim(0, 5)\n",
    "\n",
    "plt.show()"
   ]
  },
  {
   "cell_type": "code",
   "execution_count": 31,
   "id": "6d20e16e-f5db-4e59-bde7-0b80c43fd949",
   "metadata": {},
   "outputs": [
    {
     "name": "stdout",
     "output_type": "stream",
     "text": [
      "INFO:tensorflow:Assets written to: ./nn_model\\assets\n"
     ]
    }
   ],
   "source": [
    "model1.save('./nn_model')"
   ]
  },
  {
   "cell_type": "code",
   "execution_count": 32,
   "id": "5168c42a-2858-4884-8929-c8016f7a9060",
   "metadata": {},
   "outputs": [],
   "source": [
    "model = tf.keras.models.load_model('./nn_model')"
   ]
  },
  {
   "cell_type": "code",
   "execution_count": 33,
   "id": "3dc7f107-5d40-419b-9274-bb72f7b2f6d5",
   "metadata": {},
   "outputs": [],
   "source": [
    "test_load = model.predict(test_norm.reshape(1,-1))\n",
    "test_year = 2016"
   ]
  },
  {
   "cell_type": "code",
   "execution_count": 34,
   "id": "73cc49b2-c686-4c71-87ba-ed45c6bdcbc6",
   "metadata": {},
   "outputs": [
    {
     "data": {
      "text/plain": [
       "['knn.gz']"
      ]
     },
     "execution_count": 34,
     "metadata": {},
     "output_type": "execute_result"
    }
   ],
   "source": [
    "joblib.dump(knn, filename='knn.gz', compress=3)"
   ]
  },
  {
   "cell_type": "code",
   "execution_count": 35,
   "id": "e26cf79c-2179-4c01-b987-f2276a873115",
   "metadata": {},
   "outputs": [],
   "source": [
    "test_load_input = np.array([test_load[0][0], test_year])"
   ]
  },
  {
   "cell_type": "code",
   "execution_count": 36,
   "id": "196df94f-7c15-42ff-a304-d58c14a2b27c",
   "metadata": {},
   "outputs": [
    {
     "data": {
      "text/plain": [
       "(array([[1.95345416, 4.15767854, 5.03830497, 5.47221997, 5.59539144,\n",
       "         5.73059827, 6.49030334, 6.54998869, 6.73353101, 7.00897436]]),\n",
       " array([[101165,  10418,  21403,  77317,  10336,  42973,  11200,  11075,\n",
       "         112840,  42532]], dtype=int64))"
      ]
     },
     "execution_count": 36,
     "metadata": {},
     "output_type": "execute_result"
    }
   ],
   "source": [
    "knn.kneighbors(test_load_input.reshape(1, -1)) "
   ]
  },
  {
   "cell_type": "code",
   "execution_count": null,
   "id": "6fa51056-5ea6-4a81-b9e5-5afcd54a6590",
   "metadata": {},
   "outputs": [],
   "source": []
  }
 ],
 "metadata": {
  "kernelspec": {
   "display_name": "U4BW3",
   "language": "python",
   "name": "u4bw3"
  },
  "language_info": {
   "codemirror_mode": {
    "name": "ipython",
    "version": 3
   },
   "file_extension": ".py",
   "mimetype": "text/x-python",
   "name": "python",
   "nbconvert_exporter": "python",
   "pygments_lexer": "ipython3",
   "version": "3.8.11"
  }
 },
 "nbformat": 4,
 "nbformat_minor": 5
}
