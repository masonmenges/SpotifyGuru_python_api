{
 "cells": [
  {
   "cell_type": "code",
   "execution_count": 1,
   "id": "ac462034-6140-4642-99d6-0aa56a85ebb6",
   "metadata": {},
   "outputs": [
    {
     "name": "stdout",
     "output_type": "stream",
     "text": [
      "Collecting tensorflow-cpu\n",
      "  Using cached tensorflow_cpu-2.6.0-cp38-cp38-win_amd64.whl (235.4 MB)\n",
      "Requirement already satisfied: h5py~=3.1.0 in c:\\users\\track\\appdata\\roaming\\python\\python38\\site-packages (from tensorflow-cpu) (3.1.0)\n",
      "Requirement already satisfied: typing-extensions~=3.7.4 in c:\\users\\track\\appdata\\roaming\\python\\python38\\site-packages (from tensorflow-cpu) (3.7.4.3)\n",
      "Requirement already satisfied: gast==0.4.0 in c:\\users\\track\\appdata\\roaming\\python\\python38\\site-packages (from tensorflow-cpu) (0.4.0)\n",
      "Requirement already satisfied: flatbuffers~=1.12.0 in c:\\users\\track\\appdata\\roaming\\python\\python38\\site-packages (from tensorflow-cpu) (1.12)\n",
      "Requirement already satisfied: wrapt~=1.12.1 in c:\\users\\track\\appdata\\roaming\\python\\python38\\site-packages (from tensorflow-cpu) (1.12.1)\n",
      "Requirement already satisfied: termcolor~=1.1.0 in c:\\users\\track\\appdata\\roaming\\python\\python38\\site-packages (from tensorflow-cpu) (1.1.0)\n",
      "Requirement already satisfied: tensorflow-estimator~=2.6 in c:\\users\\track\\appdata\\roaming\\python\\python38\\site-packages (from tensorflow-cpu) (2.6.0)\n",
      "Requirement already satisfied: opt-einsum~=3.3.0 in c:\\users\\track\\appdata\\roaming\\python\\python38\\site-packages (from tensorflow-cpu) (3.3.0)\n",
      "Requirement already satisfied: keras-preprocessing~=1.1.2 in c:\\users\\track\\appdata\\roaming\\python\\python38\\site-packages (from tensorflow-cpu) (1.1.2)\n",
      "Requirement already satisfied: wheel~=0.35 in c:\\users\\track\\anaconda3\\envs\\u4bw3\\lib\\site-packages (from tensorflow-cpu) (0.37.0)\n",
      "Requirement already satisfied: tensorboard~=2.6 in c:\\users\\track\\appdata\\roaming\\python\\python38\\site-packages (from tensorflow-cpu) (2.6.0)\n",
      "Requirement already satisfied: google-pasta~=0.2 in c:\\users\\track\\appdata\\roaming\\python\\python38\\site-packages (from tensorflow-cpu) (0.2.0)\n",
      "Requirement already satisfied: six~=1.15.0 in c:\\users\\track\\appdata\\roaming\\python\\python38\\site-packages (from tensorflow-cpu) (1.15.0)\n",
      "Requirement already satisfied: grpcio<2.0,>=1.37.0 in c:\\users\\track\\appdata\\roaming\\python\\python38\\site-packages (from tensorflow-cpu) (1.39.0)\n",
      "Collecting protobuf>=3.9.2\n",
      "  Using cached protobuf-3.17.3-cp38-cp38-win_amd64.whl (909 kB)\n",
      "Collecting numpy~=1.19.2\n",
      "  Using cached numpy-1.19.5-cp38-cp38-win_amd64.whl (13.3 MB)\n",
      "Requirement already satisfied: astunparse~=1.6.3 in c:\\users\\track\\appdata\\roaming\\python\\python38\\site-packages (from tensorflow-cpu) (1.6.3)\n",
      "Requirement already satisfied: keras~=2.6 in c:\\users\\track\\appdata\\roaming\\python\\python38\\site-packages (from tensorflow-cpu) (2.6.0)\n",
      "Requirement already satisfied: clang~=5.0 in c:\\users\\track\\appdata\\roaming\\python\\python38\\site-packages (from tensorflow-cpu) (5.0)\n",
      "Requirement already satisfied: absl-py~=0.10 in c:\\users\\track\\appdata\\roaming\\python\\python38\\site-packages (from tensorflow-cpu) (0.13.0)\n",
      "Collecting google-auth<2,>=1.6.3\n",
      "  Using cached google_auth-1.35.0-py2.py3-none-any.whl (152 kB)\n",
      "Requirement already satisfied: markdown>=2.6.8 in c:\\users\\track\\appdata\\roaming\\python\\python38\\site-packages (from tensorboard~=2.6->tensorflow-cpu) (3.3.4)\n",
      "Collecting werkzeug>=0.11.15\n",
      "  Using cached Werkzeug-2.0.1-py3-none-any.whl (288 kB)\n",
      "Requirement already satisfied: google-auth-oauthlib<0.5,>=0.4.1 in c:\\users\\track\\appdata\\roaming\\python\\python38\\site-packages (from tensorboard~=2.6->tensorflow-cpu) (0.4.5)\n",
      "Requirement already satisfied: setuptools>=41.0.0 in c:\\users\\track\\anaconda3\\envs\\u4bw3\\lib\\site-packages (from tensorboard~=2.6->tensorflow-cpu) (52.0.0.post20210125)\n",
      "Collecting tensorboard-plugin-wit>=1.6.0\n",
      "  Using cached tensorboard_plugin_wit-1.8.0-py3-none-any.whl (781 kB)\n",
      "Requirement already satisfied: requests<3,>=2.21.0 in c:\\users\\track\\anaconda3\\envs\\u4bw3\\lib\\site-packages (from tensorboard~=2.6->tensorflow-cpu) (2.26.0)\n",
      "Collecting tensorboard-data-server<0.7.0,>=0.6.0\n",
      "  Using cached tensorboard_data_server-0.6.1-py3-none-any.whl (2.4 kB)\n",
      "Collecting rsa<5,>=3.1.4\n",
      "  Using cached rsa-4.7.2-py3-none-any.whl (34 kB)\n",
      "Collecting cachetools<5.0,>=2.0.0\n",
      "  Using cached cachetools-4.2.2-py3-none-any.whl (11 kB)\n",
      "Collecting pyasn1-modules>=0.2.1\n",
      "  Using cached pyasn1_modules-0.2.8-py2.py3-none-any.whl (155 kB)\n",
      "Collecting requests-oauthlib>=0.7.0\n",
      "  Using cached requests_oauthlib-1.3.0-py2.py3-none-any.whl (23 kB)\n",
      "Collecting pyasn1<0.5.0,>=0.4.6\n",
      "  Using cached pyasn1-0.4.8-py2.py3-none-any.whl (77 kB)\n",
      "Requirement already satisfied: charset-normalizer~=2.0.0 in c:\\users\\track\\anaconda3\\envs\\u4bw3\\lib\\site-packages (from requests<3,>=2.21.0->tensorboard~=2.6->tensorflow-cpu) (2.0.4)\n",
      "Requirement already satisfied: urllib3<1.27,>=1.21.1 in c:\\users\\track\\anaconda3\\envs\\u4bw3\\lib\\site-packages (from requests<3,>=2.21.0->tensorboard~=2.6->tensorflow-cpu) (1.26.6)\n",
      "Requirement already satisfied: certifi>=2017.4.17 in c:\\users\\track\\anaconda3\\envs\\u4bw3\\lib\\site-packages (from requests<3,>=2.21.0->tensorboard~=2.6->tensorflow-cpu) (2021.5.30)\n",
      "Requirement already satisfied: idna<4,>=2.5 in c:\\users\\track\\anaconda3\\envs\\u4bw3\\lib\\site-packages (from requests<3,>=2.21.0->tensorboard~=2.6->tensorflow-cpu) (3.2)\n",
      "Collecting oauthlib>=3.0.0\n",
      "  Using cached oauthlib-3.1.1-py2.py3-none-any.whl (146 kB)\n",
      "Installing collected packages: pyasn1, rsa, pyasn1-modules, oauthlib, cachetools, requests-oauthlib, google-auth, werkzeug, tensorboard-plugin-wit, tensorboard-data-server, protobuf, numpy, tensorflow-cpu\n",
      "Successfully installed cachetools-4.2.2 google-auth-1.35.0 numpy-1.19.5 oauthlib-3.1.1 protobuf-3.17.3 pyasn1-0.4.8 pyasn1-modules-0.2.8 requests-oauthlib-1.3.0 rsa-4.7.2 tensorboard-data-server-0.6.1 tensorboard-plugin-wit-1.8.0 tensorflow-cpu-2.6.0 werkzeug-2.0.1\n",
      "Collecting pandas\n",
      "  Using cached pandas-1.3.2-cp38-cp38-win_amd64.whl (10.2 MB)\n",
      "Requirement already satisfied: pytz>=2017.3 in c:\\users\\track\\anaconda3\\envs\\u4bw3\\lib\\site-packages (from pandas) (2021.1)\n",
      "Requirement already satisfied: python-dateutil>=2.7.3 in c:\\users\\track\\appdata\\roaming\\python\\python38\\site-packages (from pandas) (2.8.1)\n",
      "Requirement already satisfied: numpy>=1.17.3 in c:\\users\\track\\anaconda3\\envs\\u4bw3\\lib\\site-packages (from pandas) (1.19.5)\n",
      "Requirement already satisfied: six>=1.5 in c:\\users\\track\\appdata\\roaming\\python\\python38\\site-packages (from python-dateutil>=2.7.3->pandas) (1.15.0)\n",
      "Installing collected packages: pandas\n",
      "Successfully installed pandas-1.3.2\n",
      "Requirement already satisfied: sklearn in c:\\users\\track\\appdata\\roaming\\python\\python38\\site-packages (0.0)\n",
      "Collecting scikit-learn\n",
      "  Using cached scikit_learn-0.24.2-cp38-cp38-win_amd64.whl (6.9 MB)\n",
      "Collecting joblib>=0.11\n",
      "  Using cached joblib-1.0.1-py3-none-any.whl (303 kB)\n",
      "Requirement already satisfied: numpy>=1.13.3 in c:\\users\\track\\anaconda3\\envs\\u4bw3\\lib\\site-packages (from scikit-learn->sklearn) (1.19.5)\n",
      "Collecting threadpoolctl>=2.0.0\n",
      "  Using cached threadpoolctl-2.2.0-py3-none-any.whl (12 kB)\n",
      "Collecting scipy>=0.19.1\n",
      "  Using cached scipy-1.7.1-cp38-cp38-win_amd64.whl (33.7 MB)\n",
      "Installing collected packages: threadpoolctl, scipy, joblib, scikit-learn\n",
      "Successfully installed joblib-1.0.1 scikit-learn-0.24.2 scipy-1.7.1 threadpoolctl-2.2.0\n",
      "Requirement already satisfied: joblib in c:\\users\\track\\anaconda3\\envs\\u4bw3\\lib\\site-packages (1.0.1)\n"
     ]
    }
   ],
   "source": [
    "!pip install tensorflow-cpu\n",
    "!pip install pandas\n",
    "# !pip install numpy\n",
    "!pip install sklearn\n",
    "!pip install joblib\n"
   ]
  },
  {
   "cell_type": "code",
   "execution_count": 2,
   "id": "b10d315f-1773-4529-b6c2-4c4851ec61d6",
   "metadata": {},
   "outputs": [],
   "source": [
    "import pandas as pd\n",
    "import numpy as np\n",
    "from sklearn.neighbors import NearestNeighbors\n",
    "import joblib\n",
    "import tensorflow as tf \n",
    "from tensorflow.keras.layers import Dense, Input, Conv2D, MaxPooling2D, Flatten\n",
    "from tensorflow.keras.models import Model, Sequential\n",
    "import matplotlib.pyplot as plt"
   ]
  },
  {
   "cell_type": "code",
   "execution_count": 3,
   "id": "b8d513fc-9a85-47f1-a349-e6af66ee5fcd",
   "metadata": {},
   "outputs": [],
   "source": [
    "file_path = \"./Kaggle_Data/songs.csv\"\n",
    "\n",
    "songs_df = pd.read_csv(file_path)"
   ]
  },
  {
   "cell_type": "code",
   "execution_count": 4,
   "id": "ee29ebac-89ea-4c3a-b8ec-9dfb8a2d6328",
   "metadata": {},
   "outputs": [],
   "source": [
    "songs_df = songs_df[(songs_df['popularity'] > 20)]\n",
    "songs_df = songs_df[(songs_df['year'] > 1959)]\n",
    "\n",
    "\n",
    "\n",
    "songs_df.index = songs_df['id']\n",
    "song_names = songs_df['name']\n",
    "song_year = songs_df['year']\n",
    "artists = songs_df['artists']\n",
    "songs_df = songs_df.drop(columns=['id', 'name', 'release_date',\n",
    "                                  'artists', 'popularity', 'duration_ms',\n",
    "                                  'explicit'])"
   ]
  },
  {
   "cell_type": "code",
   "execution_count": 5,
   "id": "8206ebf4-e14a-4579-b3ed-cfeea5e4a827",
   "metadata": {},
   "outputs": [
    {
     "data": {
      "text/html": [
       "<div>\n",
       "<style scoped>\n",
       "    .dataframe tbody tr th:only-of-type {\n",
       "        vertical-align: middle;\n",
       "    }\n",
       "\n",
       "    .dataframe tbody tr th {\n",
       "        vertical-align: top;\n",
       "    }\n",
       "\n",
       "    .dataframe thead th {\n",
       "        text-align: right;\n",
       "    }\n",
       "</style>\n",
       "<table border=\"1\" class=\"dataframe\">\n",
       "  <thead>\n",
       "    <tr style=\"text-align: right;\">\n",
       "      <th></th>\n",
       "      <th>acousticness</th>\n",
       "      <th>danceability</th>\n",
       "      <th>energy</th>\n",
       "      <th>instrumentalness</th>\n",
       "      <th>key</th>\n",
       "      <th>liveness</th>\n",
       "      <th>loudness</th>\n",
       "      <th>mode</th>\n",
       "      <th>speechiness</th>\n",
       "      <th>tempo</th>\n",
       "      <th>valence</th>\n",
       "      <th>year</th>\n",
       "    </tr>\n",
       "    <tr>\n",
       "      <th>id</th>\n",
       "      <th></th>\n",
       "      <th></th>\n",
       "      <th></th>\n",
       "      <th></th>\n",
       "      <th></th>\n",
       "      <th></th>\n",
       "      <th></th>\n",
       "      <th></th>\n",
       "      <th></th>\n",
       "      <th></th>\n",
       "      <th></th>\n",
       "      <th></th>\n",
       "    </tr>\n",
       "  </thead>\n",
       "  <tbody>\n",
       "    <tr>\n",
       "      <th>14KYHUXP10UdTx4RawPF65</th>\n",
       "      <td>0.5890</td>\n",
       "      <td>0.617</td>\n",
       "      <td>0.815</td>\n",
       "      <td>0.000366</td>\n",
       "      <td>4</td>\n",
       "      <td>0.1230</td>\n",
       "      <td>-8.724</td>\n",
       "      <td>1</td>\n",
       "      <td>0.0410</td>\n",
       "      <td>85.041</td>\n",
       "      <td>0.964</td>\n",
       "      <td>1960</td>\n",
       "    </tr>\n",
       "    <tr>\n",
       "      <th>67LQpgGMjI0jnXo9lRj07C</th>\n",
       "      <td>0.8920</td>\n",
       "      <td>0.596</td>\n",
       "      <td>0.314</td>\n",
       "      <td>0.000001</td>\n",
       "      <td>9</td>\n",
       "      <td>0.1680</td>\n",
       "      <td>-10.024</td>\n",
       "      <td>0</td>\n",
       "      <td>0.0290</td>\n",
       "      <td>99.442</td>\n",
       "      <td>0.599</td>\n",
       "      <td>1960</td>\n",
       "    </tr>\n",
       "    <tr>\n",
       "      <th>6punhea3aLO1amgBFe5Onz</th>\n",
       "      <td>0.6100</td>\n",
       "      <td>0.312</td>\n",
       "      <td>0.372</td>\n",
       "      <td>0.000000</td>\n",
       "      <td>5</td>\n",
       "      <td>0.3800</td>\n",
       "      <td>-9.472</td>\n",
       "      <td>1</td>\n",
       "      <td>0.0273</td>\n",
       "      <td>82.965</td>\n",
       "      <td>0.332</td>\n",
       "      <td>1960</td>\n",
       "    </tr>\n",
       "    <tr>\n",
       "      <th>7yjnEE3OeagYs8QI8cQYcH</th>\n",
       "      <td>0.8520</td>\n",
       "      <td>0.228</td>\n",
       "      <td>0.670</td>\n",
       "      <td>0.026900</td>\n",
       "      <td>6</td>\n",
       "      <td>0.1770</td>\n",
       "      <td>-9.893</td>\n",
       "      <td>0</td>\n",
       "      <td>0.0459</td>\n",
       "      <td>67.792</td>\n",
       "      <td>0.520</td>\n",
       "      <td>1960</td>\n",
       "    </tr>\n",
       "    <tr>\n",
       "      <th>1kQa6xtxhxrpLrCBgV5v7r</th>\n",
       "      <td>0.5580</td>\n",
       "      <td>0.476</td>\n",
       "      <td>0.923</td>\n",
       "      <td>0.000000</td>\n",
       "      <td>9</td>\n",
       "      <td>0.1570</td>\n",
       "      <td>-6.077</td>\n",
       "      <td>1</td>\n",
       "      <td>0.0850</td>\n",
       "      <td>90.129</td>\n",
       "      <td>0.808</td>\n",
       "      <td>1960</td>\n",
       "    </tr>\n",
       "    <tr>\n",
       "      <th>...</th>\n",
       "      <td>...</td>\n",
       "      <td>...</td>\n",
       "      <td>...</td>\n",
       "      <td>...</td>\n",
       "      <td>...</td>\n",
       "      <td>...</td>\n",
       "      <td>...</td>\n",
       "      <td>...</td>\n",
       "      <td>...</td>\n",
       "      <td>...</td>\n",
       "      <td>...</td>\n",
       "      <td>...</td>\n",
       "    </tr>\n",
       "    <tr>\n",
       "      <th>4KppkflX7I3vJQk7urOJaS</th>\n",
       "      <td>0.1730</td>\n",
       "      <td>0.875</td>\n",
       "      <td>0.443</td>\n",
       "      <td>0.000032</td>\n",
       "      <td>1</td>\n",
       "      <td>0.0891</td>\n",
       "      <td>-7.461</td>\n",
       "      <td>1</td>\n",
       "      <td>0.1430</td>\n",
       "      <td>100.012</td>\n",
       "      <td>0.306</td>\n",
       "      <td>2020</td>\n",
       "    </tr>\n",
       "    <tr>\n",
       "      <th>1ehhGlTvjtHo2e4xJFB0SZ</th>\n",
       "      <td>0.0167</td>\n",
       "      <td>0.719</td>\n",
       "      <td>0.385</td>\n",
       "      <td>0.031300</td>\n",
       "      <td>8</td>\n",
       "      <td>0.1110</td>\n",
       "      <td>-10.907</td>\n",
       "      <td>1</td>\n",
       "      <td>0.0403</td>\n",
       "      <td>128.000</td>\n",
       "      <td>0.270</td>\n",
       "      <td>2020</td>\n",
       "    </tr>\n",
       "    <tr>\n",
       "      <th>52eycxprLhK3lPcRLbQiVk</th>\n",
       "      <td>0.5380</td>\n",
       "      <td>0.514</td>\n",
       "      <td>0.539</td>\n",
       "      <td>0.002330</td>\n",
       "      <td>7</td>\n",
       "      <td>0.1080</td>\n",
       "      <td>-9.332</td>\n",
       "      <td>1</td>\n",
       "      <td>0.1050</td>\n",
       "      <td>123.700</td>\n",
       "      <td>0.153</td>\n",
       "      <td>2020</td>\n",
       "    </tr>\n",
       "    <tr>\n",
       "      <th>3wYOGJYD31sLRmBgCvWxa4</th>\n",
       "      <td>0.0714</td>\n",
       "      <td>0.646</td>\n",
       "      <td>0.761</td>\n",
       "      <td>0.000000</td>\n",
       "      <td>1</td>\n",
       "      <td>0.2220</td>\n",
       "      <td>-2.557</td>\n",
       "      <td>1</td>\n",
       "      <td>0.0385</td>\n",
       "      <td>129.916</td>\n",
       "      <td>0.472</td>\n",
       "      <td>2020</td>\n",
       "    </tr>\n",
       "    <tr>\n",
       "      <th>60RFlt48hm0l4Fu0JoccOl</th>\n",
       "      <td>0.1090</td>\n",
       "      <td>0.512</td>\n",
       "      <td>0.428</td>\n",
       "      <td>0.000000</td>\n",
       "      <td>0</td>\n",
       "      <td>0.1050</td>\n",
       "      <td>-7.387</td>\n",
       "      <td>1</td>\n",
       "      <td>0.0271</td>\n",
       "      <td>80.588</td>\n",
       "      <td>0.366</td>\n",
       "      <td>2020</td>\n",
       "    </tr>\n",
       "  </tbody>\n",
       "</table>\n",
       "<p>113126 rows × 12 columns</p>\n",
       "</div>"
      ],
      "text/plain": [
       "                        acousticness  danceability  energy  instrumentalness  \\\n",
       "id                                                                             \n",
       "14KYHUXP10UdTx4RawPF65        0.5890         0.617   0.815          0.000366   \n",
       "67LQpgGMjI0jnXo9lRj07C        0.8920         0.596   0.314          0.000001   \n",
       "6punhea3aLO1amgBFe5Onz        0.6100         0.312   0.372          0.000000   \n",
       "7yjnEE3OeagYs8QI8cQYcH        0.8520         0.228   0.670          0.026900   \n",
       "1kQa6xtxhxrpLrCBgV5v7r        0.5580         0.476   0.923          0.000000   \n",
       "...                              ...           ...     ...               ...   \n",
       "4KppkflX7I3vJQk7urOJaS        0.1730         0.875   0.443          0.000032   \n",
       "1ehhGlTvjtHo2e4xJFB0SZ        0.0167         0.719   0.385          0.031300   \n",
       "52eycxprLhK3lPcRLbQiVk        0.5380         0.514   0.539          0.002330   \n",
       "3wYOGJYD31sLRmBgCvWxa4        0.0714         0.646   0.761          0.000000   \n",
       "60RFlt48hm0l4Fu0JoccOl        0.1090         0.512   0.428          0.000000   \n",
       "\n",
       "                        key  liveness  loudness  mode  speechiness    tempo  \\\n",
       "id                                                                            \n",
       "14KYHUXP10UdTx4RawPF65    4    0.1230    -8.724     1       0.0410   85.041   \n",
       "67LQpgGMjI0jnXo9lRj07C    9    0.1680   -10.024     0       0.0290   99.442   \n",
       "6punhea3aLO1amgBFe5Onz    5    0.3800    -9.472     1       0.0273   82.965   \n",
       "7yjnEE3OeagYs8QI8cQYcH    6    0.1770    -9.893     0       0.0459   67.792   \n",
       "1kQa6xtxhxrpLrCBgV5v7r    9    0.1570    -6.077     1       0.0850   90.129   \n",
       "...                     ...       ...       ...   ...          ...      ...   \n",
       "4KppkflX7I3vJQk7urOJaS    1    0.0891    -7.461     1       0.1430  100.012   \n",
       "1ehhGlTvjtHo2e4xJFB0SZ    8    0.1110   -10.907     1       0.0403  128.000   \n",
       "52eycxprLhK3lPcRLbQiVk    7    0.1080    -9.332     1       0.1050  123.700   \n",
       "3wYOGJYD31sLRmBgCvWxa4    1    0.2220    -2.557     1       0.0385  129.916   \n",
       "60RFlt48hm0l4Fu0JoccOl    0    0.1050    -7.387     1       0.0271   80.588   \n",
       "\n",
       "                        valence  year  \n",
       "id                                     \n",
       "14KYHUXP10UdTx4RawPF65    0.964  1960  \n",
       "67LQpgGMjI0jnXo9lRj07C    0.599  1960  \n",
       "6punhea3aLO1amgBFe5Onz    0.332  1960  \n",
       "7yjnEE3OeagYs8QI8cQYcH    0.520  1960  \n",
       "1kQa6xtxhxrpLrCBgV5v7r    0.808  1960  \n",
       "...                         ...   ...  \n",
       "4KppkflX7I3vJQk7urOJaS    0.306  2020  \n",
       "1ehhGlTvjtHo2e4xJFB0SZ    0.270  2020  \n",
       "52eycxprLhK3lPcRLbQiVk    0.153  2020  \n",
       "3wYOGJYD31sLRmBgCvWxa4    0.472  2020  \n",
       "60RFlt48hm0l4Fu0JoccOl    0.366  2020  \n",
       "\n",
       "[113126 rows x 12 columns]"
      ]
     },
     "execution_count": 5,
     "metadata": {},
     "output_type": "execute_result"
    }
   ],
   "source": [
    "songs_df"
   ]
  },
  {
   "cell_type": "code",
   "execution_count": 6,
   "id": "444b3289-cf78-4707-a635-947251e7ba02",
   "metadata": {},
   "outputs": [],
   "source": [
    "songs_array = songs_df.to_numpy()"
   ]
  },
  {
   "cell_type": "code",
   "execution_count": 7,
   "id": "60c71a2c-880e-46be-b84f-4999099919a0",
   "metadata": {},
   "outputs": [
    {
     "data": {
      "text/plain": [
       "(113126, 12)"
      ]
     },
     "execution_count": 7,
     "metadata": {},
     "output_type": "execute_result"
    }
   ],
   "source": [
    "songs_array.shape"
   ]
  },
  {
   "cell_type": "code",
   "execution_count": 8,
   "id": "b5f92196-9578-433c-b5b6-77a7aa0187ab",
   "metadata": {},
   "outputs": [],
   "source": [
    "max_val = 0\n",
    "for x in songs_array:\n",
    "    if x.max() > max_val:\n",
    "        max_val = x.max()\n",
    "\n",
    "songs_array_scaled = songs_array.astype('float')/max_val"
   ]
  },
  {
   "cell_type": "code",
   "execution_count": 9,
   "id": "a64a76fa-ac05-494b-90dd-9ebfa050cd73",
   "metadata": {},
   "outputs": [
    {
     "data": {
      "text/plain": [
       "(113126, 12)"
      ]
     },
     "execution_count": 9,
     "metadata": {},
     "output_type": "execute_result"
    }
   ],
   "source": [
    "songs_array_scaled.shape"
   ]
  },
  {
   "cell_type": "code",
   "execution_count": 10,
   "id": "d28b0e4a-fc98-4ec9-b1a4-3abe016117c7",
   "metadata": {},
   "outputs": [
    {
     "data": {
      "text/plain": [
       "NearestNeighbors(algorithm='ball_tree', n_neighbors=10)"
      ]
     },
     "execution_count": 10,
     "metadata": {},
     "output_type": "execute_result"
    }
   ],
   "source": [
    "nn = NearestNeighbors(n_neighbors=10, algorithm='ball_tree')\n",
    "\n",
    "nn.fit(songs_array_scaled)"
   ]
  },
  {
   "cell_type": "code",
   "execution_count": 11,
   "id": "a3c72956-abad-4ad8-820c-69847d7facf7",
   "metadata": {},
   "outputs": [],
   "source": [
    "test_song = songs_array_scaled[1]"
   ]
  },
  {
   "cell_type": "code",
   "execution_count": 12,
   "id": "0d609196-85c7-4021-b549-083864b05ec5",
   "metadata": {},
   "outputs": [],
   "source": [
    "dist, index = nn.kneighbors(test_song.reshape(1,-1))"
   ]
  },
  {
   "cell_type": "code",
   "execution_count": 13,
   "id": "69780f67-d8a2-4d3c-a511-11bef49fe6a5",
   "metadata": {},
   "outputs": [
    {
     "name": "stdout",
     "output_type": "stream",
     "text": [
      "id\n",
      "67LQpgGMjI0jnXo9lRj07C                             A Volta do Boêmio\n",
      "6ImmlZj8ysK2jDnqqbKp60    Hello Mary Lou, Goodbye Heart - Remastered\n",
      "69WjO90WyjR8HmoitIbkDz                                    Lumberjack\n",
      "2ib1IMnHzjMtB7k6WkMcGv                                      Sad Mood\n",
      "52K3t4o5i8akoXluiFzPTZ                       Working on the Building\n",
      "7uF7JmOfHM38fuxlJ4lHBw                   Tutti Frutti (Tuti - Fruti)\n",
      "2U95mnxcqpr394uCZncG4R                                          Amor\n",
      "6KnopHJXnMgJfO3M7zVsRk                        I'll Say It's My Fault\n",
      "25sKYXYcxPcGiOxJ4I4q4B         Samba De Una Nota So (One Note Samba)\n",
      "7mzf1grnyOFo6BottE1Z18                       Stonewall Jackson's Way\n",
      "Name: name, dtype: object\n"
     ]
    }
   ],
   "source": [
    "for i in index:\n",
    "    print(song_names[i])"
   ]
  },
  {
   "cell_type": "code",
   "execution_count": 14,
   "id": "1ad35b11-31a4-4a2f-af98-a8d59cc11db6",
   "metadata": {},
   "outputs": [
    {
     "data": {
      "text/plain": [
       "array([[0.        , 0.00080544, 0.00090985, 0.00115341, 0.00138402,\n",
       "        0.00140073, 0.0014407 , 0.00147914, 0.00148425, 0.00151149]])"
      ]
     },
     "execution_count": 14,
     "metadata": {},
     "output_type": "execute_result"
    }
   ],
   "source": [
    "dist"
   ]
  },
  {
   "cell_type": "code",
   "execution_count": 15,
   "id": "4dc9dd67-08a9-49d0-b688-39df52ace2a6",
   "metadata": {},
   "outputs": [
    {
     "data": {
      "text/plain": [
       "['knn.gz']"
      ]
     },
     "execution_count": 15,
     "metadata": {},
     "output_type": "execute_result"
    }
   ],
   "source": [
    "joblib.dump(nn, filename='knn.gz', compress=3)"
   ]
  },
  {
   "cell_type": "code",
   "execution_count": 16,
   "id": "2ba64f19-2347-4fd7-8aaa-c0126ce586ce",
   "metadata": {},
   "outputs": [],
   "source": [
    "dist, index = nn.kneighbors(songs_array_scaled[:1000], 2)\n"
   ]
  },
  {
   "cell_type": "code",
   "execution_count": 17,
   "id": "5ff26b92-c767-4477-8069-9406c3a5a1eb",
   "metadata": {},
   "outputs": [],
   "source": [
    "dist = np.delete(dist, 0, axis=1)\n",
    "y = np.array(list(range(0, 1000))).reshape(1000, 1)"
   ]
  },
  {
   "cell_type": "code",
   "execution_count": 18,
   "id": "4d45e93e-2da3-44a9-847a-3f7f8c37625c",
   "metadata": {},
   "outputs": [
    {
     "data": {
      "image/png": "[encoded data removed]",
      "text/plain": [
       "<Figure size 640x480 with 1 Axes>"
      ]
     },
     "metadata": {},
     "output_type": "display_data"
    }
   ],
   "source": [
    "fig, ax = plt.subplots()\n",
    "\n",
    "ax.scatter(dist, y, s=5)\n",
    "\n",
    "\n",
    "plt.show()"
   ]
  },
  {
   "cell_type": "code",
   "execution_count": 8,
   "id": "36bafa88-a133-4ca5-815e-4ca60bb65c30",
   "metadata": {},
   "outputs": [],
   "source": [
    "inp = Input(shape=(11,))\n",
    "            \n",
    "# enc1 = Dense(6, activation='linear')(inp)\n",
    "enc1 = Dense(1)(inp)\n",
    "\n",
    "enc = Model(inp, enc1)"
   ]
  },
  {
   "cell_type": "code",
   "execution_count": 9,
   "id": "76f21070-8099-4680-8c0f-2cdd2b5d9c13",
   "metadata": {},
   "outputs": [],
   "source": [
    "song_metrics = songs_df.drop(columns='year')\n",
    "song_metrics = song_metrics.to_numpy()"
   ]
  },
  {
   "cell_type": "code",
   "execution_count": 10,
   "id": "cb7db233-c911-4757-b308-27992a490266",
   "metadata": {},
   "outputs": [],
   "source": [
    "enc_songs = enc.predict(song_metrics)"
   ]
  },
  {
   "cell_type": "code",
   "execution_count": 16,
   "id": "a21dffa0-5cd4-4489-b53a-d5a8d28248d2",
   "metadata": {},
   "outputs": [],
   "source": [
    "songs_metrics_year = np.stack((enc_songs, song_year.to_numpy().reshape(-1, 1)), axis=1).reshape(-1, 2)"
   ]
  },
  {
   "cell_type": "code",
   "execution_count": 17,
   "id": "47e3e13d-7ef9-4a2f-882d-b61ca26cd110",
   "metadata": {},
   "outputs": [
    {
     "data": {
      "text/plain": [
       "array([[ -21.62183952, 1960.        ],\n",
       "       [ -24.01556587, 1960.        ],\n",
       "       [ -20.87985992, 1960.        ],\n",
       "       ...,\n",
       "       [ -30.28425026, 2020.        ],\n",
       "       [ -31.98987579, 2020.        ],\n",
       "       [ -21.03937531, 2020.        ]])"
      ]
     },
     "execution_count": 17,
     "metadata": {},
     "output_type": "execute_result"
    }
   ],
   "source": [
    "songs_metrics_year"
   ]
  },
  {
   "cell_type": "code",
   "execution_count": 18,
   "id": "1574142c-39d2-423b-a015-69f431260881",
   "metadata": {},
   "outputs": [
    {
     "data": {
      "text/plain": [
       "NearestNeighbors(algorithm='ball_tree', n_neighbors=10)"
      ]
     },
     "execution_count": 18,
     "metadata": {},
     "output_type": "execute_result"
    }
   ],
   "source": [
    "nn_enc = NearestNeighbors(n_neighbors=10, algorithm='ball_tree')\n",
    "\n",
    "nn_enc.fit(songs_metrics_year)"
   ]
  },
  {
   "cell_type": "code",
   "execution_count": 19,
   "id": "a875d62f-a470-4d21-a01d-c0b9c3d13eea",
   "metadata": {},
   "outputs": [],
   "source": [
    "enc_test = songs_metrics_year[1]\n",
    "\n",
    "dist_enc, index_enc = nn_enc.kneighbors(enc_test.reshape(1,-1))"
   ]
  },
  {
   "cell_type": "code",
   "execution_count": 20,
   "id": "e02c6560-cbe5-48aa-927d-cea7e70a1e62",
   "metadata": {},
   "outputs": [
    {
     "name": "stdout",
     "output_type": "stream",
     "text": [
      "id\n",
      "67LQpgGMjI0jnXo9lRj07C                                    A Volta do Boêmio\n",
      "0KY3UEEB4Uf80uxD0ciUEv                                                  Why\n",
      "1mFnzLmWAcuidKIapYMdyY                                      Tennessee Waltz\n",
      "0lxZo8brQB2p9tCCOUoGmg    Quiero Ser Libre - I Want to be Free (Remaster...\n",
      "1dGIHdI2bkAyALXNMQ3s2R                                      Make Me Know It\n",
      "7uF7JmOfHM38fuxlJ4lHBw                          Tutti Frutti (Tuti - Fruti)\n",
      "1wvf65y4bKpOfNKy7CDwOu                                   Nani Teri Morni Ko\n",
      "4UGqFnfmdYwX1c3LB0n1Kd                     Come Rain Or Come Shine (Take 4)\n",
      "0IGAYgRjnQkzpZ2eIe6fco                                 Souvenirs, souvenirs\n",
      "0T3D4VoP2LSP1TemQBX7qV                              Come Rain Or Come Shine\n",
      "Name: name, dtype: object\n"
     ]
    }
   ],
   "source": [
    "for i in index_enc:\n",
    "    print(song_names[i])"
   ]
  },
  {
   "cell_type": "code",
   "execution_count": 22,
   "id": "b9d870fa-c949-4da7-b514-567da8c1c28a",
   "metadata": {},
   "outputs": [],
   "source": [
    "dist_enc, index_enc = nn_enc.kneighbors(songs_metrics_year[:1000], 2)\n"
   ]
  },
  {
   "cell_type": "code",
   "execution_count": 23,
   "id": "674318c2-b13b-47c5-a721-db16275195dd",
   "metadata": {},
   "outputs": [],
   "source": [
    "dist_enc = np.delete(dist_enc, 0, axis=1)\n",
    "y = np.array(list(range(0, 1000))).reshape(1000, 1)"
   ]
  },
  {
   "cell_type": "code",
   "execution_count": 29,
   "id": "c54619ec-d11f-474e-83bd-0373f6d88d9f",
   "metadata": {},
   "outputs": [
    {
     "data": {
      "image/png": "[encoded data removed]",
      "text/plain": [
       "<Figure size 640x480 with 1 Axes>"
      ]
     },
     "metadata": {},
     "output_type": "display_data"
    }
   ],
   "source": [
    "fig, ax = plt.subplots()\n",
    "\n",
    "ax.scatter(dist_enc, y, s=1)\n",
    "plt.xlim(-0.1, 0.5)\n",
    "\n",
    "plt.show()"
   ]
  },
  {
   "cell_type": "code",
   "execution_count": null,
   "id": "77e7373d-5055-47f9-8078-2116c4ac2a41",
   "metadata": {},
   "outputs": [],
   "source": []
  }
 ],
 "metadata": {
  "kernelspec": {
   "display_name": "U4BW3",
   "language": "python",
   "name": "u4bw3"
  },
  "language_info": {
   "codemirror_mode": {
    "name": "ipython",
    "version": 3
   },
   "file_extension": ".py",
   "mimetype": "text/x-python",
   "name": "python",
   "nbconvert_exporter": "python",
   "pygments_lexer": "ipython3",
   "version": "3.8.11"
  }
 },
 "nbformat": 4,
 "nbformat_minor": 5
}
